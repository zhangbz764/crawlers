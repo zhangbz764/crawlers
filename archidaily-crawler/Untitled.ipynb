{
 "cells": [
  {
   "cell_type": "code",
   "execution_count": 1,
   "id": "b9c7cdcf",
   "metadata": {},
   "outputs": [],
   "source": [
    "import requests\n",
    "from bs4 import BeautifulSoup\n",
    "import os\n",
    "import time\n",
    "import random"
   ]
  },
  {
   "cell_type": "markdown",
   "id": "2274f397",
   "metadata": {},
   "source": [
    "### 得到每一页的全部项目链接（每10页操作一下）"
   ]
  },
  {
   "cell_type": "code",
   "execution_count": 3,
   "id": "858d3ca9",
   "metadata": {},
   "outputs": [
    {
     "name": "stdout",
     "output_type": "stream",
     "text": [
      "https://www.archdaily.com/category/office-buildings/page/1\n",
      "page 1   total projects num: 24\n",
      "https://www.archdaily.com/category/office-buildings/page/2\n",
      "page 2   total projects num: 48\n",
      "https://www.archdaily.com/category/office-buildings/page/3\n",
      "page 3   total projects num: 72\n",
      "https://www.archdaily.com/category/office-buildings/page/4\n",
      "page 4   total projects num: 96\n",
      "https://www.archdaily.com/category/office-buildings/page/5\n",
      "page 5   total projects num: 120\n",
      "https://www.archdaily.com/category/office-buildings/page/6\n",
      "page 6   total projects num: 144\n",
      "https://www.archdaily.com/category/office-buildings/page/7\n",
      "page 7   total projects num: 168\n",
      "https://www.archdaily.com/category/office-buildings/page/8\n",
      "page 8   total projects num: 192\n",
      "https://www.archdaily.com/category/office-buildings/page/9\n",
      "page 9   total projects num: 216\n",
      "https://www.archdaily.com/category/office-buildings/page/10\n",
      "page 10   total projects num: 240\n"
     ]
    }
   ],
   "source": [
    "# 定义目标URL（\"办公建筑\"分类页面）\n",
    "url_root = \"https://www.archdaily.com\"\n",
    "\n",
    "proj_links_all = []\n",
    "proj_titles_all = []\n",
    "\n",
    "count = 0\n",
    "for i in range(0,10):\n",
    "    # 每一页\n",
    "    url = \"https://www.archdaily.com/category/office-buildings/page/\"+str(i+1)\n",
    "    print(url)\n",
    "    response = requests.get(url)\n",
    "    content = response.content\n",
    "    soup = BeautifulSoup(content, \"html.parser\")\n",
    "    \n",
    "    # 每一页各个项目链接\n",
    "    proj_links = []\n",
    "    proj_titles = []\n",
    "    for li in soup.find_all('li',class_=\"afd-search-list__4xitem\"):\n",
    "        a = li.find('a', class_=\"afd-search-list__link\")\n",
    "        for a in li.find_all('a', class_=\"afd-search-list__link\"):\n",
    "            input_string = a['href']\n",
    "            proj_title = a['href'].split(\"/\")[2]\n",
    "            url_proj = url_root + a['href']\n",
    "            proj_links.append(url_proj)\n",
    "            proj_titles.append(proj_title)\n",
    "            count = count+1\n",
    "    proj_links_all.append(proj_links)\n",
    "    proj_titles_all.append(proj_titles)\n",
    "    print(\"page \"+str(i+1)+\"   total projects num: \"+str(count))\n",
    "    time.sleep(2)\n"
   ]
  },
  {
   "cell_type": "markdown",
   "id": "9f28d771",
   "metadata": {},
   "source": [
    "### 依次访问各个项目的链接"
   ]
  },
  {
   "cell_type": "code",
   "execution_count": 4,
   "id": "ef7f57df",
   "metadata": {},
   "outputs": [],
   "source": [
    "import re"
   ]
  },
  {
   "cell_type": "code",
   "execution_count": null,
   "id": "7a3cfcba",
   "metadata": {},
   "outputs": [
    {
     "name": "stdout",
     "output_type": "stream",
     "text": [
      "page 7 -- awesome185-office-building-architects-group-raum saved. | specs: 0 | imgs: 0\n",
      "page 7 -- ribeirao-preto-shared-fuel-base-office-estudio-cidade saved. | specs: 21 | imgs: 21\n"
     ]
    }
   ],
   "source": [
    "for i in range(6, 7):\n",
    "    for j in range(14, len(proj_links_all[i])):\n",
    "        try:\n",
    "            title = proj_titles_all[i][j]\n",
    "            link = proj_links_all[i][j]\n",
    "\n",
    "            os.makedirs(\"ArchDailyImages/\"+title, exist_ok=True)\n",
    "            project_response = requests.get(link)\n",
    "            project_content = project_response.content\n",
    "            project_soup = BeautifulSoup(project_content, \"html.parser\")\n",
    "\n",
    "            # 项目信息\n",
    "            specs_li = project_soup.find_all(\"li\", class_='afd-specs__item')\n",
    "            specs_data = {}\n",
    "            for li in specs_li:\n",
    "                span_key =  li.find(\"span\", class_='afd-specs__key')\n",
    "                span_value =  li.find(\"span\", class_='afd-specs__value')\n",
    "                if span_key is not None:\n",
    "                    key = re.sub(r'[\\s\\n]', '', span_key.get_text())\n",
    "                    if span_value is not None:\n",
    "                        value = re.sub(r'[\\s\\n]', '', span_value.get_text())\n",
    "                        specs_data[key] = value\n",
    "                    else:\n",
    "                        specs_data[key] = ''\n",
    "            # 保存为JSON文件\n",
    "            specs_path = \"ArchDailyImages/\"+title+\"/specs.json\"\n",
    "            with open(specs_path, \"w\") as json_file:\n",
    "                json.dump(specs_data, json_file)\n",
    "\n",
    "            # 项目图片\n",
    "            proj_pic = project_soup.find_all('a', class_='gallery-thumbs-link')\n",
    "            img_tags = []\n",
    "            for k in range(0,len(proj_pic)):\n",
    "                p = proj_pic[k]\n",
    "                img =  p.find('img')\n",
    "                img_tag = img['alt'].split(\"- \")[1]\n",
    "                tag = img_tag.split(\", \")\n",
    "                img_tags.append(tag)\n",
    "\n",
    "                img_link = img['src'].replace('medium_jpg', 'slideshow')\n",
    "                image_response = requests.get(img_link)\n",
    "                image_data = image_response.content\n",
    "                with open(os.path.join(\"ArchDailyImages\",title, f\"{k+1}.jpg\"), \"wb\") as f:\n",
    "                    f.write(image_data)\n",
    "                time.sleep(0.8) #存图间隔\n",
    "\n",
    "            tags_path = \"ArchDailyImages/\"+title+\"/img_tags.txt\"\n",
    "            # 将列表整理成指定格式的字符串\n",
    "            formatted_data = \"\"\n",
    "            for sublist in img_tags:\n",
    "                formatted_data += \",\".join(sublist) + \"\\n\"\n",
    "\n",
    "            # 将整理后的数据写入到本地文件\n",
    "            with open(tags_path, \"w\") as file:\n",
    "                file.write(formatted_data)\n",
    "\n",
    "            time.sleep(1) #打开项目间隔\n",
    "            print(\"page \"+str(i+1)+\" -- \"+title+\" saved. | specs: \"+str(len(specs_data))+\" | imgs: \"+str(len(proj_pic)))\n",
    "        except requests.exceptions.RequestException as e:\n",
    "            print(\"Error processing at page: \"+str(i+1)+\" project: \"+str(j+1))\n",
    "            continue"
   ]
  },
  {
   "cell_type": "markdown",
   "id": "1c199168",
   "metadata": {},
   "source": [
    "### 对每一个项目链接再次发送请求，解析项目信息和图片"
   ]
  },
  {
   "cell_type": "markdown",
   "id": "f9c1cd2b",
   "metadata": {},
   "source": [
    "#### 项目信息"
   ]
  },
  {
   "cell_type": "code",
   "execution_count": 84,
   "id": "0029b71f",
   "metadata": {},
   "outputs": [
    {
     "name": "stdout",
     "output_type": "stream",
     "text": [
      "{'Architects:': 'Olgooco', 'Area:': '3000m²', 'Year:': '2022', 'Photographs:': 'MohammadHassanEttefagh,ParhamTaghioff', 'Manufacturers:IvanSystem,SalcoCompany': '', 'LeadArchitects:': 'MehranKhoshroo', 'Contractor:': 'CandoEngineeringGroup', 'DesignTeam:': 'ReyhaneMiraftab-SaminMostafaei-SoroushZeydanian', 'Structure:': 'AfshinMasoudi', 'Electrical:': 'Mr.Mardani', 'Mechanical:': 'ImanEILBeigi', 'Graphic:': 'MahsaEsmaeili', 'Program/Use/BuildingFunction:': 'Officebuilding', 'Client:': 'PayaWealthManagement', 'Supervision:': 'OlgooOffice', 'City:': 'Tehran', 'Country:': 'Iran'}\n"
     ]
    }
   ],
   "source": [
    "project_link = \"https://www.archdaily.com/1005735/the-white-renovation-office-building-olgooco\"\n",
    "project_response = requests.get(project_link)\n",
    "project_content = project_response.content\n",
    "project_soup = BeautifulSoup(project_content, \"html.parser\")\n",
    "\n",
    "# 项目信息\n",
    "specs_li = project_soup.find_all(\"li\", class_='afd-specs__item')\n",
    "data = {}\n",
    "for li in specs_li:\n",
    "    span_key =  li.find(\"span\", class_='afd-specs__key')\n",
    "    span_value =  li.find(\"span\", class_='afd-specs__value')\n",
    "    if span_key is not None:\n",
    "        key = re.sub(r'[\\s\\n]', '', span_key.get_text())\n",
    "        if span_value is not None:\n",
    "            value = re.sub(r'[\\s\\n]', '', span_value.get_text())\n",
    "            data[key] = value\n",
    "        else:\n",
    "            data[key] = ''\n",
    "print(data)"
   ]
  },
  {
   "cell_type": "markdown",
   "id": "b3c067a7",
   "metadata": {},
   "source": [
    "#### 项目图片"
   ]
  },
  {
   "cell_type": "code",
   "execution_count": 112,
   "id": "55c509dc",
   "metadata": {},
   "outputs": [
    {
     "name": "stdout",
     "output_type": "stream",
     "text": [
      "36\n",
      "https://images.adsttc.com/media/images/64e3/a79c/fbc6/582d/9274/f217/slideshow/the-white-renovation-office-building-olgooco_1.jpg?1692641200\n",
      "https://images.adsttc.com/media/images/64e3/a7a3/fbc6/582d/9274/f21b/slideshow/the-white-renovation-office-building-olgooco_13.jpg?1692641219\n",
      "https://images.adsttc.com/media/images/64e3/a7b1/8177/ff72/a9c8/44f0/slideshow/the-white-renovation-office-building-olgooco_18.jpg?1692641216\n",
      "https://images.adsttc.com/media/images/64e3/a7a2/fbc6/582d/9274/f219/slideshow/the-white-renovation-office-building-olgooco_17.jpg?1692641203\n",
      "https://images.adsttc.com/media/images/64e3/a7a3/fbc6/582d/9274/f21a/slideshow/the-white-renovation-office-building-olgooco_2.jpg?1692641221\n",
      "https://images.adsttc.com/media/images/64e3/a79f/8177/ff72/a9c8/44ec/slideshow/the-white-renovation-office-building-olgooco_16.jpg?1692641208\n",
      "https://images.adsttc.com/media/images/64e3/a57e/8177/ff72/a9c8/44da/slideshow/the-white-renovation-office-building-olgooco_1.jpg?1692640645\n",
      "https://images.adsttc.com/media/images/64e3/a7b5/8177/ff72/a9c8/44f3/slideshow/the-white-renovation-office-building-olgooco_10.jpg?1692641230\n",
      "https://images.adsttc.com/media/images/64e3/a7a4/fbc6/582d/9274/f21c/slideshow/the-white-renovation-office-building-olgooco_11.jpg?1692641205\n",
      "https://images.adsttc.com/media/images/64e3/a79f/fbc6/582d/9274/f218/slideshow/the-white-renovation-office-building-olgooco_12.jpg?1692641205\n",
      "https://images.adsttc.com/media/images/64e3/a7b3/8177/ff72/a9c8/44f2/slideshow/the-white-renovation-office-building-olgooco_14.jpg?1692641220\n",
      "https://images.adsttc.com/media/images/64e3/a7ae/8177/ff72/a9c8/44ef/slideshow/the-white-renovation-office-building-olgooco_15.jpg?1692641226\n",
      "https://images.adsttc.com/media/images/64e3/a79d/8177/ff72/a9c8/44eb/slideshow/the-white-renovation-office-building-olgooco_19.jpg?1692641197\n",
      "https://images.adsttc.com/media/images/64e3/a7b2/fbc6/582d/9274/f21e/slideshow/the-white-renovation-office-building-olgooco_20.jpg?1692641237\n",
      "https://images.adsttc.com/media/images/64e3/a796/8177/ff72/a9c8/44e8/slideshow/the-white-renovation-office-building-olgooco_21.jpg?1692641191\n",
      "https://images.adsttc.com/media/images/64e3/a798/8177/ff72/a9c8/44e9/slideshow/the-white-renovation-office-building-olgooco_3.jpg?1692641194\n",
      "https://images.adsttc.com/media/images/64e3/a7b7/8177/ff72/a9c8/44f4/slideshow/the-white-renovation-office-building-olgooco_4.jpg?1692641236\n",
      "https://images.adsttc.com/media/images/64e3/a7ab/8177/ff72/a9c8/44ee/slideshow/the-white-renovation-office-building-olgooco_5.jpg?1692641214\n",
      "https://images.adsttc.com/media/images/64e3/a7aa/8177/ff72/a9c8/44ed/slideshow/the-white-renovation-office-building-olgooco_6.jpg?1692641209\n",
      "https://images.adsttc.com/media/images/64e3/a7ab/fbc6/582d/9274/f21d/slideshow/the-white-renovation-office-building-olgooco_7.jpg?1692641225\n",
      "https://images.adsttc.com/media/images/64e3/a799/8177/ff72/a9c8/44ea/slideshow/the-white-renovation-office-building-olgooco_8.jpg?1692641209\n",
      "https://images.adsttc.com/media/images/64e3/a7b3/8177/ff72/a9c8/44f1/slideshow/the-white-renovation-office-building-olgooco_9.jpg?1692641234\n",
      "https://images.adsttc.com/media/images/64e3/a570/8177/ff72/a9c8/44d4/slideshow/1-saving-waste-1.jpg?1692640639\n",
      "https://images.adsttc.com/media/images/64e3/a572/8177/ff72/a9c8/44d6/slideshow/10-openings-10.jpg?1692640642\n",
      "https://images.adsttc.com/media/images/64e3/a574/fbc6/582d/9274/f1ed/slideshow/11-ground-floor-plan-11.jpg?1692640654\n",
      "https://images.adsttc.com/media/images/64e3/a574/fbc6/582d/9274/f1ec/slideshow/12-10th-floor-plan-12.jpg?1692640652\n",
      "https://images.adsttc.com/media/images/64e3/a573/8177/ff72/a9c8/44d8/slideshow/13-4th-floor-plan-13.jpg?1692640651\n",
      "https://images.adsttc.com/media/images/64e3/a575/fbc6/582d/9274/f1ee/slideshow/14-4th-floor-mep-plan-14.jpg?1692640664\n",
      "https://images.adsttc.com/media/images/64e3/a576/fbc6/582d/9274/f1ef/slideshow/2-facade-2.jpg?1692640649\n",
      "https://images.adsttc.com/media/images/64e3/a573/8177/ff72/a9c8/44d9/slideshow/3-layers-3.jpg?1692640644\n",
      "https://images.adsttc.com/media/images/64e3/a570/fbc6/582d/9274/f1ea/slideshow/4-skyline-4.jpg?1692640640\n",
      "https://images.adsttc.com/media/images/64e3/a572/fbc6/582d/9274/f1eb/slideshow/5-elevation-5.jpg?1692640640\n",
      "https://images.adsttc.com/media/images/64e3/a573/8177/ff72/a9c8/44d7/slideshow/6-program-distribution-6.jpg?1692640639\n",
      "https://images.adsttc.com/media/images/64e3/a576/fbc6/582d/9274/f1f0/slideshow/7-sections-7.jpg?1692640667\n",
      "https://images.adsttc.com/media/images/64e3/a575/8177/ff76/5320/84ff/slideshow/8-section-detail-8.jpg?1692640652\n",
      "https://images.adsttc.com/media/images/64e3/a571/8177/ff72/a9c8/44d5/slideshow/9-facade-plan-detail-9.jpg?1692640648\n",
      "[['Exterior Photography', 'Windows', 'Facade'], ['Interior Photography', 'Chair'], ['Interior Photography', 'Chair'], ['Interior Photography', 'Windows', 'Chair', 'Handrail'], ['Exterior Photography', 'Facade'], ['Exterior Photography', 'Facade'], ['Exterior Photography', 'Facade', 'Cityscape'], ['Interior Photography', 'Windows', 'Beam'], ['Interior Photography', 'Chair', 'Windows', 'Beam'], ['Interior Photography', 'Living Room', 'Table', 'Chair', 'Windows', 'Beam'], ['Interior Photography', 'Facade', 'Handrail'], ['Interior Photography', 'Beam'], ['Interior Photography', 'Windows', 'Door', 'Facade'], ['Interior Photography', 'Windows'], ['Exterior Photography', 'Facade'], ['Facade', 'Windows', 'Cityscape'], ['Exterior Photography', 'Facade', 'Windows'], ['Exterior Photography', 'Windows', 'Cityscape', 'Facade'], ['Exterior Photography', 'Windows', 'Cityscape', 'Facade'], ['Exterior Photography', 'Windows', 'Facade', 'Cityscape'], ['Exterior Photography', 'Windows', 'Facade', 'Cityscape'], ['Exterior Photography', 'Facade'], ['Image 23 of 36'], ['Image 24 of 36'], ['Image 25 of 36'], ['Image 26 of 36'], ['Image 27 of 36'], ['Image 28 of 36'], ['Image 29 of 36'], ['Image 30 of 36'], ['Image 31 of 36'], ['Image 32 of 36'], ['Image 33 of 36'], ['Image 34 of 36'], ['Image 35 of 36'], ['Image 36 of 36']]\n"
     ]
    }
   ],
   "source": [
    "proj_pic = project_soup.find_all('a', class_='gallery-thumbs-link')\n",
    "print(len(proj_pic))\n",
    "\n",
    "img_tags = []\n",
    "for i in range(0,len(proj_pic)):\n",
    "    p = proj_pic[i]\n",
    "    img =  p.find('img')\n",
    "    img_tag = img['alt'].split(\"- \")[1]\n",
    "    tag = img_tag.split(\", \")\n",
    "    img_tags.append(tag)\n",
    "    \n",
    "    img_link = img['src'].replace('medium_jpg', 'slideshow')\n",
    "    \n",
    "    print(img_link)\n",
    "    \n",
    "    image_response = requests.get(img_link)\n",
    "    image_data = image_response.content\n",
    "    with open(os.path.join(\"ArchDailyImages/the-white-renovation-office-building-olgooco\", f\"{i+1}.jpg\"), \"wb\") as f:\n",
    "        f.write(image_data)\n",
    "        \n",
    "    time.sleep(1)\n",
    "\n",
    "print(img_tags)\n",
    "\n",
    "\n",
    "filename = \"img_tags.txt\"\n",
    "# 将列表整理成指定格式的字符串\n",
    "formatted_data = \"\"\n",
    "for sublist in img_tags:\n",
    "    formatted_data += \",\".join(sublist) + \"\\n\"\n",
    "\n",
    "# 将整理后的数据写入到本地文件\n",
    "with open(filename, \"w\") as file:\n",
    "    file.write(formatted_data)"
   ]
  },
  {
   "cell_type": "code",
   "execution_count": 76,
   "id": "a78f155b",
   "metadata": {},
   "outputs": [
    {
     "name": "stdout",
     "output_type": "stream",
     "text": [
      "[<p class=\"afd-mobile-navigation__item-title\">\n",
      "Projects\n",
      "</p>, <p class=\"afd-mobile-navigation__item-title\">\n",
      "Images\n",
      "</p>, <p class=\"afd-mobile-navigation__item-title\">\n",
      "Products\n",
      "</p>, <p class=\"afd-mobile-navigation__item-title\">\n",
      "Folders\n",
      "</p>, <p class=\"afd-mobile-navigation__item-title avatar-title\">\n",
      "Feed\n",
      "</p>, <p class=\"js-tooltip-text\"></p>, <p class=\"thumbs afd-desktop-e clearfix\"><a class=\"thumbs__link\" data-nr-picture-id=\"64e3a7a3fbc6582d9274f21b\" href=\"/1005735/the-white-renovation-office-building-olgooco/64e3a7a3fbc6582d9274f21b-the-white-renovation-office-building-olgooco-photo\" rel=\"attachment\"><img alt=\"The White Renovation Office Building / Olgooco - Interior Photography, Chair\" class=\"thumbs__img b-lazy\" data-nr-picture-id=\"64e3a7a3fbc6582d9274f21b\" data-pin-nopin=\"true\" data-src=\"https://images.adsttc.com/media/images/64e3/a7a3/fbc6/582d/9274/f21b/thumb_jpg/the-white-renovation-office-building-olgooco_13.jpg?1692641219\" height=\"125\" longdesc=\"https://www.archdaily.com/1005735/the-white-renovation-office-building-olgooco/64e3a7a3fbc6582d9274f21b-the-white-renovation-office-building-olgooco-photo\" src=\"data:image/gif;base64,R0lGODlhAQABAAAAACH5BAEKAAEALAAAAAABAAEAAAICTAEAOw==\" title=\"© Mohammad Hassan Ettefagh, Parham Taghioff\" width=\"125\"/></a><a class=\"thumbs__link\" data-nr-picture-id=\"64e3a7b18177ff72a9c844f0\" href=\"/1005735/the-white-renovation-office-building-olgooco/64e3a7b18177ff72a9c844f0-the-white-renovation-office-building-olgooco-photo\" rel=\"attachment\"><img alt=\"The White Renovation Office Building / Olgooco - Interior Photography, Chair\" class=\"thumbs__img b-lazy\" data-nr-picture-id=\"64e3a7b18177ff72a9c844f0\" data-pin-nopin=\"true\" data-src=\"https://images.adsttc.com/media/images/64e3/a7b1/8177/ff72/a9c8/44f0/thumb_jpg/the-white-renovation-office-building-olgooco_18.jpg?1692641216\" height=\"125\" longdesc=\"https://www.archdaily.com/1005735/the-white-renovation-office-building-olgooco/64e3a7b18177ff72a9c844f0-the-white-renovation-office-building-olgooco-photo\" src=\"data:image/gif;base64,R0lGODlhAQABAAAAACH5BAEKAAEALAAAAAABAAEAAAICTAEAOw==\" title=\"© Mohammad Hassan Ettefagh, Parham Taghioff\" width=\"125\"/></a><a class=\"thumbs__link\" data-nr-picture-id=\"64e3a7a2fbc6582d9274f219\" href=\"/1005735/the-white-renovation-office-building-olgooco/64e3a7a2fbc6582d9274f219-the-white-renovation-office-building-olgooco-photo\" rel=\"attachment\"><img alt=\"The White Renovation Office Building / Olgooco - Interior Photography, Windows, Chair, Handrail\" class=\"thumbs__img b-lazy\" data-nr-picture-id=\"64e3a7a2fbc6582d9274f219\" data-pin-nopin=\"true\" data-src=\"https://images.adsttc.com/media/images/64e3/a7a2/fbc6/582d/9274/f219/thumb_jpg/the-white-renovation-office-building-olgooco_17.jpg?1692641203\" height=\"125\" longdesc=\"https://www.archdaily.com/1005735/the-white-renovation-office-building-olgooco/64e3a7a2fbc6582d9274f219-the-white-renovation-office-building-olgooco-photo\" src=\"data:image/gif;base64,R0lGODlhAQABAAAAACH5BAEKAAEALAAAAAABAAEAAAICTAEAOw==\" title=\"© Mohammad Hassan Ettefagh, Parham Taghioff\" width=\"125\"/></a><a class=\"thumbs__link\" data-nr-picture-id=\"64e3a7a3fbc6582d9274f21a\" href=\"/1005735/the-white-renovation-office-building-olgooco/64e3a7a3fbc6582d9274f21a-the-white-renovation-office-building-olgooco-photo\" rel=\"attachment\"><img alt=\"The White Renovation Office Building / Olgooco - Exterior Photography, Facade\" class=\"thumbs__img b-lazy\" data-nr-picture-id=\"64e3a7a3fbc6582d9274f21a\" data-pin-nopin=\"true\" data-src=\"https://images.adsttc.com/media/images/64e3/a7a3/fbc6/582d/9274/f21a/thumb_jpg/the-white-renovation-office-building-olgooco_2.jpg?1692641221\" height=\"125\" longdesc=\"https://www.archdaily.com/1005735/the-white-renovation-office-building-olgooco/64e3a7a3fbc6582d9274f21a-the-white-renovation-office-building-olgooco-photo\" src=\"data:image/gif;base64,R0lGODlhAQABAAAAACH5BAEKAAEALAAAAAABAAEAAAICTAEAOw==\" title=\"© Mohammad Hassan Ettefagh, Parham Taghioff\" width=\"125\"/></a><a class=\"gallery-link afd-desktop-e\" href=\"/1005735/the-white-renovation-office-building-olgooco/64e3a79cfbc6582d9274f217-the-white-renovation-office-building-olgooco-photo\"><img alt=\"The White Renovation Office Building / Olgooco - More Images\" class=\"thumbs__img b-lazy\" data-src=\"https://images.adsttc.com/media/images/64e3/a79c/fbc6/582d/9274/f217/newsletter/the-white-renovation-office-building-olgooco_1.jpg?1692641200\" itemprop=\"image\" src=\"data:image/gif;base64,R0lGODlhAQABAIAAAAUEBAAAACwAAAAAAQABAAACAkQBADs=\"/><span class=\"gallery-link__overlay\">+ 31</span></a></p>, <p><img src=\"https://images.adsttc.com/media/images/64e3/a57e/8177/ff72/a9c8/44da/original/the-white-renovation-office-building-olgooco_1.gif?1692640645\"/></p>, <p><p><p><em>Text description provided by the architects. </em>Between the urban facades of a busy street in the heart of Tehran's office zone, a 35-year-old building begins its new life behind a white veil wrapped around it. The new users of the building, which are the administrative offices of a headquarters, are placed in the space between an old concrete structure and contemporary white objects and look at the white mask through a green balcony. Because the new owners failed to buy the existing bank, building Weight Loss was put on the agenda as the only possible solution to help the existing structure, and finally this whole process turned into a building design scenario; and the production of a large amount of construction waste was prevented.</p></p><figure aria-labelledby=\"64e3a7a3fbc6582d9274f21a\" class=\"js-image-size media-picture\" style=\"width: 368px\"><div class=\"save-image\"><a class=\"myarchdaily-multiple-fav\" data-image=\"https://images.adsttc.com/media/images/64e3/a7a3/fbc6/582d/9274/f21a/medium_jpg/the-white-renovation-office-building-olgooco_2.jpg?1692641221\" data-message=\"Save this picture!\" data-success-message=\"Image saved\" data-title=\"Gallery of - The White Renovation Office Building / Olgooco - 5\" href=\"https://www.archdaily.com/1005735/the-white-renovation-office-building-olgooco/64e3a7a3fbc6582d9274f21a-the-white-renovation-office-building-olgooco-photo\" title=\"Save image\"><div class=\"save-image-icon clearfix\"><i class=\"afd-icon afd-icon-text__icon afd-icon--icon-folder-blue\"></i></div><div class=\"save-image-text\"><span class=\"save-image-span\">Save this picture!</span></div></a></div><a class=\"js-image-size__link lazy-anchor\" href=\"/1005735/the-white-renovation-office-building-olgooco/64e3a7a3fbc6582d9274f21a-the-white-renovation-office-building-olgooco-photo\"><picture><source media=\"(max-width: 767px)\" srcset=\"https://images.adsttc.com/media/images/64e3/a7a3/fbc6/582d/9274/f21a/medium_jpg/the-white-renovation-office-building-olgooco_2.jpg?1692641221\"/><img alt=\"The White Renovation Office Building / Olgooco - Exterior Photography, Facade\" data-nr-picture-id=\"64e3a7a3fbc6582d9274f21a\" height=\"427\" itemprop=\"image\" loading=\"lazy\" longdesc=\"https://www.archdaily.com/1005735/the-white-renovation-office-building-olgooco/64e3a7a3fbc6582d9274f21a-the-white-renovation-office-building-olgooco-photo\" src=\"https://images.adsttc.com/media/images/64e3/a7a3/fbc6/582d/9274/f21a/medium_jpg/the-white-renovation-office-building-olgooco_2.jpg?1692641221\" width=\"640\"/></picture><figcaption class=\"figcaption afd-desktop-e\" id=\"64e3a7a3fbc6582d9274f21a\">© Mohammad Hassan Ettefagh, Parham Taghioff</figcaption><i class=\"figcaption-cc-icon afd-desktop-e\"></i></a></figure><figure aria-labelledby=\"64e3a5738177ff72a9c844d8\" class=\"js-image-size media-plan\" style=\"width: 438px\"><div class=\"save-image\"><a class=\"myarchdaily-multiple-fav\" data-image=\"https://images.adsttc.com/media/images/64e3/a573/8177/ff72/a9c8/44d8/medium_jpg/13-4th-floor-plan-13.jpg?1692640651\" data-message=\"Save this picture!\" data-success-message=\"Image saved\" data-title=\"Gallery of - The White Renovation Office Building / Olgooco - 27\" href=\"https://www.archdaily.com/1005735/the-white-renovation-office-building-olgooco/64e3a5738177ff72a9c844d8-the-white-renovation-office-building-olgooco-plan-4th-floor\" title=\"Save image\"><div class=\"save-image-icon clearfix\"><i class=\"afd-icon afd-icon-text__icon afd-icon--icon-folder-blue\"></i></div><div class=\"save-image-text\"><span class=\"save-image-span\">Save this picture!</span></div></a></div><a class=\"js-image-size__link lazy-anchor\" href=\"/1005735/the-white-renovation-office-building-olgooco/64e3a5738177ff72a9c844d8-the-white-renovation-office-building-olgooco-plan-4th-floor\"><picture><source media=\"(max-width: 767px)\" srcset=\"https://images.adsttc.com/media/images/64e3/a573/8177/ff72/a9c8/44d8/medium_jpg/13-4th-floor-plan-13.jpg?1692640651\"/><img alt=\"The White Renovation Office Building / Olgooco - Image 27 of 36\" data-nr-picture-id=\"64e3a5738177ff72a9c844d8\" height=\"427\" itemprop=\"image\" loading=\"lazy\" longdesc=\"https://www.archdaily.com/1005735/the-white-renovation-office-building-olgooco/64e3a5738177ff72a9c844d8-the-white-renovation-office-building-olgooco-plan-4th-floor\" src=\"https://images.adsttc.com/media/images/64e3/a573/8177/ff72/a9c8/44d8/medium_jpg/13-4th-floor-plan-13.jpg?1692640651\" width=\"640\"/></picture><figcaption class=\"figcaption afd-desktop-e\" id=\"64e3a5738177ff72a9c844d8\">Plan - 4th floor</figcaption><i class=\"figcaption-icon afd-desktop-e\"></i></a></figure><figure aria-labelledby=\"64e3a5738177ff72a9c844d9\" class=\"js-image-size media-plan\" style=\"width: 640px\"><div class=\"save-image\"><a class=\"myarchdaily-multiple-fav\" data-image=\"https://images.adsttc.com/media/images/64e3/a573/8177/ff72/a9c8/44d9/newsletter/3-layers-3.jpg?1692640644\" data-message=\"Save this picture!\" data-success-message=\"Image saved\" data-title=\"Gallery of - The White Renovation Office Building / Olgooco - 30\" href=\"https://www.archdaily.com/1005735/the-white-renovation-office-building-olgooco/64e3a5738177ff72a9c844d9-the-white-renovation-office-building-olgooco-layers\" title=\"Save image\"><div class=\"save-image-icon clearfix\"><i class=\"afd-icon afd-icon-text__icon afd-icon--icon-folder-blue\"></i></div><div class=\"save-image-text\"><span class=\"save-image-span\">Save this picture!</span></div></a></div><a class=\"js-image-size__link lazy-anchor\" href=\"/1005735/the-white-renovation-office-building-olgooco/64e3a5738177ff72a9c844d9-the-white-renovation-office-building-olgooco-layers\"><picture><source media=\"(max-width: 767px)\" srcset=\"https://images.adsttc.com/media/images/64e3/a573/8177/ff72/a9c8/44d9/medium_jpg/3-layers-3.jpg?1692640644\"/><img alt=\"The White Renovation Office Building / Olgooco - Image 30 of 36\" data-nr-picture-id=\"64e3a5738177ff72a9c844d9\" height=\"427\" itemprop=\"image\" loading=\"lazy\" longdesc=\"https://www.archdaily.com/1005735/the-white-renovation-office-building-olgooco/64e3a5738177ff72a9c844d9-the-white-renovation-office-building-olgooco-layers\" src=\"https://images.adsttc.com/media/images/64e3/a573/8177/ff72/a9c8/44d9/newsletter/3-layers-3.jpg?1692640644\" width=\"640\"/></picture><figcaption class=\"figcaption afd-desktop-e\" id=\"64e3a5738177ff72a9c844d9\">Layers</figcaption><i class=\"figcaption-icon afd-desktop-e\"></i></a></figure><figure aria-labelledby=\"64e3a79f8177ff72a9c844ec\" class=\"js-image-size media-picture\" style=\"width: 493px\"><div class=\"save-image\"><a class=\"myarchdaily-multiple-fav\" data-image=\"https://images.adsttc.com/media/images/64e3/a79f/8177/ff72/a9c8/44ec/medium_jpg/the-white-renovation-office-building-olgooco_16.jpg?1692641208\" data-message=\"Save this picture!\" data-success-message=\"Image saved\" data-title=\"Gallery of - The White Renovation Office Building / Olgooco - 6\" href=\"https://www.archdaily.com/1005735/the-white-renovation-office-building-olgooco/64e3a79f8177ff72a9c844ec-the-white-renovation-office-building-olgooco-photo\" title=\"Save image\"><div class=\"save-image-icon clearfix\"><i class=\"afd-icon afd-icon-text__icon afd-icon--icon-folder-blue\"></i></div><div class=\"save-image-text\"><span class=\"save-image-span\">Save this picture!</span></div></a></div><a class=\"js-image-size__link lazy-anchor\" href=\"/1005735/the-white-renovation-office-building-olgooco/64e3a79f8177ff72a9c844ec-the-white-renovation-office-building-olgooco-photo\"><picture><source media=\"(max-width: 767px)\" srcset=\"https://images.adsttc.com/media/images/64e3/a79f/8177/ff72/a9c8/44ec/medium_jpg/the-white-renovation-office-building-olgooco_16.jpg?1692641208\"/><img alt=\"The White Renovation Office Building / Olgooco - Exterior Photography, Facade\" data-nr-picture-id=\"64e3a79f8177ff72a9c844ec\" height=\"427\" itemprop=\"image\" loading=\"lazy\" longdesc=\"https://www.archdaily.com/1005735/the-white-renovation-office-building-olgooco/64e3a79f8177ff72a9c844ec-the-white-renovation-office-building-olgooco-photo\" src=\"https://images.adsttc.com/media/images/64e3/a79f/8177/ff72/a9c8/44ec/medium_jpg/the-white-renovation-office-building-olgooco_16.jpg?1692641208\" width=\"640\"/></picture><figcaption class=\"figcaption afd-desktop-e\" id=\"64e3a79f8177ff72a9c844ec\">© Mohammad Hassan Ettefagh, Parham Taghioff</figcaption><i class=\"figcaption-cc-icon afd-desktop-e\"></i></a></figure><div id=\"interesting-products-mobile\"><style>\n",
      "  .related-products__loader--wrapper {\n",
      "      grid-template-columns: repeat(4, calc(25% - 12px));\n",
      "      grid-template-rows: repeat(2, 200px);\n",
      "    }\n",
      "  @media (max-width: 767px) {\n",
      "    .related-products__loader--wrapper {\n",
      "      grid-template-columns: repeat(2, minmax(130px, 1fr)) !important;\n",
      "      grid-template-rows: 200px 200px 250px !important;\n",
      "      margin-bottom: 40px;\n",
      "    }\n",
      "    .related-products__loader--item-big .related-products__loader--img.product-placeholder__image {\n",
      "      width: 100% !important;\n",
      "      height: 350px !important;\n",
      "    }\n",
      "    .related-products__loader--wrapper .product-placeholder:nth-child(4),\n",
      "    .related-products__loader--wrapper .product-placeholder:nth-child(5) {\n",
      "      display: none;\n",
      "    }\n",
      "  }\n",
      "</style><div class=\"afd-hide js-loading-products-grid js-loading-products-widget\"><div class=\"related-products__loader--wrapper\" style=\"display: grid;grid-gap: 16px;\"><div class=\"related-products__loader--item-big\" style=\"grid-row: span 2; grid-column: span 2;margin-bottom:8px;\"><div class=\"related-products__loader--img product-placeholder__image loading-animation\" style=\"height:350px\"></div><div class=\"product-placeholder__company loading-animation\" style=\"height:18px;margin-bottom:6px;width:60%;\"></div><div class=\"product-placeholder__name loading-animation\" style=\"height:18px;width:90%;\"></div></div><div class=\"product-placeholder\"><div class=\"product-placeholder__image loading-animation\" style=\"height:133px;margin-bottom:4px;\"></div><div class=\"product-placeholder__company loading-animation\" style=\"height:18px;margin-bottom:6px;width:60%;\"></div><div class=\"product-placeholder__name loading-animation\" style=\"height:18px;width:90%;\"></div></div><div class=\"product-placeholder\"><div class=\"product-placeholder__image loading-animation\" style=\"height:133px;margin-bottom:4px;\"></div><div class=\"product-placeholder__company loading-animation\" style=\"height:18px;margin-bottom:6px;width:60%;\"></div><div class=\"product-placeholder__name loading-animation\" style=\"height:18px;width:90%;\"></div></div><div class=\"product-placeholder\"><div class=\"product-placeholder__image loading-animation\" style=\"height:133px;margin-bottom:4px;\"></div><div class=\"product-placeholder__company loading-animation\" style=\"height:18px;margin-bottom:6px;width:60%;\"></div><div class=\"product-placeholder__name loading-animation\" style=\"height:18px;width:90%;\"></div></div><div class=\"product-placeholder\"><div class=\"product-placeholder__image loading-animation\" style=\"height:133px;margin-bottom:4px;\"></div><div class=\"product-placeholder__company loading-animation\" style=\"height:18px;margin-bottom:6px;width:60%;\"></div><div class=\"product-placeholder__name loading-animation\" style=\"height:18px;width:90%;\"></div></div></div></div></div><p><p>Considering the view from the inside, it is pointless to provide an open view because the conditions outside are disappointing and every moment the building becomes more enclosed by the surrounding density, therefore, a second mobile perforated aluminum shell was used, which is part of the interior and It eliminates the need for curtains and while reducing the thermal load, it is possible to clean the windows from the corridor behind it. The second shell and the corridor behind it are the boundary between the building and the city and are constantly changing. During the day it is solid and impenetrable and at night it is a semi-transparent source of light and reveals the interior, and in combination with bamboo plants creates a new micro yard for the offices.</p></p><figure aria-labelledby=\"64e3a7b58177ff72a9c844f3\" class=\"js-image-size media-picture\" style=\"width: 467px\"><div class=\"save-image\"><a class=\"myarchdaily-multiple-fav\" data-image=\"https://images.adsttc.com/media/images/64e3/a7b5/8177/ff72/a9c8/44f3/medium_jpg/the-white-renovation-office-building-olgooco_10.jpg?1692641230\" data-message=\"Save this picture!\" data-success-message=\"Image saved\" data-title=\"Gallery of - The White Renovation Office Building / Olgooco - 8\" href=\"https://www.archdaily.com/1005735/the-white-renovation-office-building-olgooco/64e3a7b58177ff72a9c844f3-the-white-renovation-office-building-olgooco-photo\" title=\"Save image\"><div class=\"save-image-icon clearfix\"><i class=\"afd-icon afd-icon-text__icon afd-icon--icon-folder-blue\"></i></div><div class=\"save-image-text\"><span class=\"save-image-span\">Save this picture!</span></div></a></div><a class=\"js-image-size__link lazy-anchor\" href=\"/1005735/the-white-renovation-office-building-olgooco/64e3a7b58177ff72a9c844f3-the-white-renovation-office-building-olgooco-photo\"><picture><source media=\"(max-width: 767px)\" srcset=\"https://images.adsttc.com/media/images/64e3/a7b5/8177/ff72/a9c8/44f3/medium_jpg/the-white-renovation-office-building-olgooco_10.jpg?1692641230\"/><img alt=\"The White Renovation Office Building / Olgooco - Interior Photography, Windows, Beam\" data-nr-picture-id=\"64e3a7b58177ff72a9c844f3\" height=\"427\" itemprop=\"image\" loading=\"lazy\" longdesc=\"https://www.archdaily.com/1005735/the-white-renovation-office-building-olgooco/64e3a7b58177ff72a9c844f3-the-white-renovation-office-building-olgooco-photo\" src=\"https://images.adsttc.com/media/images/64e3/a7b5/8177/ff72/a9c8/44f3/medium_jpg/the-white-renovation-office-building-olgooco_10.jpg?1692641230\" width=\"640\"/></picture><figcaption class=\"figcaption afd-desktop-e\" id=\"64e3a7b58177ff72a9c844f3\">© Mohammad Hassan Ettefagh, Parham Taghioff</figcaption><i class=\"figcaption-cc-icon afd-desktop-e\"></i></a></figure><figure aria-labelledby=\"64e3a576fbc6582d9274f1f0\" class=\"js-image-size media-plan\" style=\"width: 640px\"><div class=\"save-image\"><a class=\"myarchdaily-multiple-fav\" data-image=\"https://images.adsttc.com/media/images/64e3/a576/fbc6/582d/9274/f1f0/newsletter/7-sections-7.jpg?1692640667\" data-message=\"Save this picture!\" data-success-message=\"Image saved\" data-title=\"Gallery of - The White Renovation Office Building / Olgooco - 34\" href=\"https://www.archdaily.com/1005735/the-white-renovation-office-building-olgooco/64e3a576fbc6582d9274f1f0-the-white-renovation-office-building-olgooco-sections\" title=\"Save image\"><div class=\"save-image-icon clearfix\"><i class=\"afd-icon afd-icon-text__icon afd-icon--icon-folder-blue\"></i></div><div class=\"save-image-text\"><span class=\"save-image-span\">Save this picture!</span></div></a></div><a class=\"js-image-size__link lazy-anchor\" href=\"/1005735/the-white-renovation-office-building-olgooco/64e3a576fbc6582d9274f1f0-the-white-renovation-office-building-olgooco-sections\"><picture><source media=\"(max-width: 767px)\" srcset=\"https://images.adsttc.com/media/images/64e3/a576/fbc6/582d/9274/f1f0/medium_jpg/7-sections-7.jpg?1692640667\"/><img alt=\"The White Renovation Office Building / Olgooco - Image 34 of 36\" data-nr-picture-id=\"64e3a576fbc6582d9274f1f0\" height=\"427\" itemprop=\"image\" loading=\"lazy\" longdesc=\"https://www.archdaily.com/1005735/the-white-renovation-office-building-olgooco/64e3a576fbc6582d9274f1f0-the-white-renovation-office-building-olgooco-sections\" src=\"https://images.adsttc.com/media/images/64e3/a576/fbc6/582d/9274/f1f0/newsletter/7-sections-7.jpg?1692640667\" width=\"640\"/></picture><figcaption class=\"figcaption afd-desktop-e\" id=\"64e3a576fbc6582d9274f1f0\">Sections</figcaption><i class=\"figcaption-icon afd-desktop-e\"></i></a></figure><figure aria-labelledby=\"64e3a7ae8177ff72a9c844ef\" class=\"js-image-size media-picture\" style=\"width: 415px\"><div class=\"save-image\"><a class=\"myarchdaily-multiple-fav\" data-image=\"https://images.adsttc.com/media/images/64e3/a7ae/8177/ff72/a9c8/44ef/medium_jpg/the-white-renovation-office-building-olgooco_15.jpg?1692641226\" data-message=\"Save this picture!\" data-success-message=\"Image saved\" data-title=\"Gallery of - The White Renovation Office Building / Olgooco - 12\" href=\"https://www.archdaily.com/1005735/the-white-renovation-office-building-olgooco/64e3a7ae8177ff72a9c844ef-the-white-renovation-office-building-olgooco-photo\" title=\"Save image\"><div class=\"save-image-icon clearfix\"><i class=\"afd-icon afd-icon-text__icon afd-icon--icon-folder-blue\"></i></div><div class=\"save-image-text\"><span class=\"save-image-span\">Save this picture!</span></div></a></div><a class=\"js-image-size__link lazy-anchor\" href=\"/1005735/the-white-renovation-office-building-olgooco/64e3a7ae8177ff72a9c844ef-the-white-renovation-office-building-olgooco-photo\"><picture><source media=\"(max-width: 767px)\" srcset=\"https://images.adsttc.com/media/images/64e3/a7ae/8177/ff72/a9c8/44ef/medium_jpg/the-white-renovation-office-building-olgooco_15.jpg?1692641226\"/><img alt=\"The White Renovation Office Building / Olgooco - Interior Photography, Beam\" data-nr-picture-id=\"64e3a7ae8177ff72a9c844ef\" height=\"427\" itemprop=\"image\" loading=\"lazy\" longdesc=\"https://www.archdaily.com/1005735/the-white-renovation-office-building-olgooco/64e3a7ae8177ff72a9c844ef-the-white-renovation-office-building-olgooco-photo\" src=\"https://images.adsttc.com/media/images/64e3/a7ae/8177/ff72/a9c8/44ef/medium_jpg/the-white-renovation-office-building-olgooco_15.jpg?1692641226\" width=\"640\"/></picture><figcaption class=\"figcaption afd-desktop-e\" id=\"64e3a7ae8177ff72a9c844ef\">© Mohammad Hassan Ettefagh, Parham Taghioff</figcaption><i class=\"figcaption-cc-icon afd-desktop-e\"></i></a></figure><p><p>The closedness of the external facade is an urban gap, which is in complete contrast with the city's uncoordinated facades and expresses silence in the bustle of the urban orchestra. According to a 2018 report by the Environmental Protection Agency, total construction waste is twice as much as municipal waste from households and businesses.</p></p><figure aria-labelledby=\"64e3a7b18177ff72a9c844f0\" class=\"js-image-size media-picture\" style=\"width: 640px\"><div class=\"save-image\"><a class=\"myarchdaily-multiple-fav\" data-image=\"https://images.adsttc.com/media/images/64e3/a7b1/8177/ff72/a9c8/44f0/newsletter/the-white-renovation-office-building-olgooco_18.jpg?1692641216\" data-message=\"Save this picture!\" data-success-message=\"Image saved\" data-title=\"Gallery of - The White Renovation Office Building / Olgooco - 3\" href=\"https://www.archdaily.com/1005735/the-white-renovation-office-building-olgooco/64e3a7b18177ff72a9c844f0-the-white-renovation-office-building-olgooco-photo\" title=\"Save image\"><div class=\"save-image-icon clearfix\"><i class=\"afd-icon afd-icon-text__icon afd-icon--icon-folder-blue\"></i></div><div class=\"save-image-text\"><span class=\"save-image-span\">Save this picture!</span></div></a></div><a class=\"js-image-size__link lazy-anchor\" href=\"/1005735/the-white-renovation-office-building-olgooco/64e3a7b18177ff72a9c844f0-the-white-renovation-office-building-olgooco-photo\"><picture><source media=\"(max-width: 767px)\" srcset=\"https://images.adsttc.com/media/images/64e3/a7b1/8177/ff72/a9c8/44f0/medium_jpg/the-white-renovation-office-building-olgooco_18.jpg?1692641216\"/><img alt=\"The White Renovation Office Building / Olgooco - Interior Photography, Chair\" data-nr-picture-id=\"64e3a7b18177ff72a9c844f0\" height=\"427\" itemprop=\"image\" loading=\"lazy\" longdesc=\"https://www.archdaily.com/1005735/the-white-renovation-office-building-olgooco/64e3a7b18177ff72a9c844f0-the-white-renovation-office-building-olgooco-photo\" src=\"https://images.adsttc.com/media/images/64e3/a7b1/8177/ff72/a9c8/44f0/newsletter/the-white-renovation-office-building-olgooco_18.jpg?1692641216\" width=\"640\"/></picture><figcaption class=\"figcaption afd-desktop-e\" id=\"64e3a7b18177ff72a9c844f0\">© Mohammad Hassan Ettefagh, Parham Taghioff</figcaption><i class=\"figcaption-cc-icon afd-desktop-e\"></i></a></figure><figure aria-labelledby=\"64e3a5728177ff72a9c844d6\" class=\"js-image-size media-plan\" style=\"width: 640px\"><div class=\"save-image\"><a class=\"myarchdaily-multiple-fav\" data-image=\"https://images.adsttc.com/media/images/64e3/a572/8177/ff72/a9c8/44d6/newsletter/10-openings-10.jpg?1692640642\" data-message=\"Save this picture!\" data-success-message=\"Image saved\" data-title=\"Gallery of - The White Renovation Office Building / Olgooco - 24\" href=\"https://www.archdaily.com/1005735/the-white-renovation-office-building-olgooco/64e3a5728177ff72a9c844d6-the-white-renovation-office-building-olgooco-openings\" title=\"Save image\"><div class=\"save-image-icon clearfix\"><i class=\"afd-icon afd-icon-text__icon afd-icon--icon-folder-blue\"></i></div><div class=\"save-image-text\"><span class=\"save-image-span\">Save this picture!</span></div></a></div><a class=\"js-image-size__link lazy-anchor\" href=\"/1005735/the-white-renovation-office-building-olgooco/64e3a5728177ff72a9c844d6-the-white-renovation-office-building-olgooco-openings\"><picture><source media=\"(max-width: 767px)\" srcset=\"https://images.adsttc.com/media/images/64e3/a572/8177/ff72/a9c8/44d6/medium_jpg/10-openings-10.jpg?1692640642\"/><img alt=\"The White Renovation Office Building / Olgooco - Image 24 of 36\" data-nr-picture-id=\"64e3a5728177ff72a9c844d6\" height=\"427\" itemprop=\"image\" loading=\"lazy\" longdesc=\"https://www.archdaily.com/1005735/the-white-renovation-office-building-olgooco/64e3a5728177ff72a9c844d6-the-white-renovation-office-building-olgooco-openings\" src=\"https://images.adsttc.com/media/images/64e3/a572/8177/ff72/a9c8/44d6/newsletter/10-openings-10.jpg?1692640642\" width=\"640\"/></picture><figcaption class=\"figcaption afd-desktop-e\" id=\"64e3a5728177ff72a9c844d6\">Openings</figcaption><i class=\"figcaption-icon afd-desktop-e\"></i></a></figure><figure aria-labelledby=\"64e3a5708177ff72a9c844d4\" class=\"js-image-size media-plan\" style=\"width: 640px\"><div class=\"save-image\"><a class=\"myarchdaily-multiple-fav\" data-image=\"https://images.adsttc.com/media/images/64e3/a570/8177/ff72/a9c8/44d4/newsletter/1-saving-waste-1.jpg?1692640639\" data-message=\"Save this picture!\" data-success-message=\"Image saved\" data-title=\"Gallery of - The White Renovation Office Building / Olgooco - 23\" href=\"https://www.archdaily.com/1005735/the-white-renovation-office-building-olgooco/64e3a5708177ff72a9c844d4-the-white-renovation-office-building-olgooco-saving-waste\" title=\"Save image\"><div class=\"save-image-icon clearfix\"><i class=\"afd-icon afd-icon-text__icon afd-icon--icon-folder-blue\"></i></div><div class=\"save-image-text\"><span class=\"save-image-span\">Save this picture!</span></div></a></div><a class=\"js-image-size__link lazy-anchor\" href=\"/1005735/the-white-renovation-office-building-olgooco/64e3a5708177ff72a9c844d4-the-white-renovation-office-building-olgooco-saving-waste\"><picture><source media=\"(max-width: 767px)\" srcset=\"https://images.adsttc.com/media/images/64e3/a570/8177/ff72/a9c8/44d4/medium_jpg/1-saving-waste-1.jpg?1692640639\"/><img alt=\"The White Renovation Office Building / Olgooco - Image 23 of 36\" data-nr-picture-id=\"64e3a5708177ff72a9c844d4\" height=\"427\" itemprop=\"image\" loading=\"lazy\" longdesc=\"https://www.archdaily.com/1005735/the-white-renovation-office-building-olgooco/64e3a5708177ff72a9c844d4-the-white-renovation-office-building-olgooco-saving-waste\" src=\"https://images.adsttc.com/media/images/64e3/a570/8177/ff72/a9c8/44d4/newsletter/1-saving-waste-1.jpg?1692640639\" width=\"640\"/></picture><figcaption class=\"figcaption afd-desktop-e\" id=\"64e3a5708177ff72a9c844d4\">Saving waste</figcaption><i class=\"figcaption-icon afd-desktop-e\"></i></a></figure><figure aria-labelledby=\"64e3a7b2fbc6582d9274f21e\" class=\"js-image-size media-picture\" style=\"width: 366px\"><div class=\"save-image\"><a class=\"myarchdaily-multiple-fav\" data-image=\"https://images.adsttc.com/media/images/64e3/a7b2/fbc6/582d/9274/f21e/medium_jpg/the-white-renovation-office-building-olgooco_20.jpg?1692641237\" data-message=\"Save this picture!\" data-success-message=\"Image saved\" data-title=\"Gallery of - The White Renovation Office Building / Olgooco - 14\" href=\"https://www.archdaily.com/1005735/the-white-renovation-office-building-olgooco/64e3a7b2fbc6582d9274f21e-the-white-renovation-office-building-olgooco-photo\" title=\"Save image\"><div class=\"save-image-icon clearfix\"><i class=\"afd-icon afd-icon-text__icon afd-icon--icon-folder-blue\"></i></div><div class=\"save-image-text\"><span class=\"save-image-span\">Save this picture!</span></div></a></div><a class=\"js-image-size__link lazy-anchor\" href=\"/1005735/the-white-renovation-office-building-olgooco/64e3a7b2fbc6582d9274f21e-the-white-renovation-office-building-olgooco-photo\"><picture><source media=\"(max-width: 767px)\" srcset=\"https://images.adsttc.com/media/images/64e3/a7b2/fbc6/582d/9274/f21e/medium_jpg/the-white-renovation-office-building-olgooco_20.jpg?1692641237\"/><img alt=\"The White Renovation Office Building / Olgooco - Interior Photography, Windows\" data-nr-picture-id=\"64e3a7b2fbc6582d9274f21e\" height=\"427\" itemprop=\"image\" loading=\"lazy\" longdesc=\"https://www.archdaily.com/1005735/the-white-renovation-office-building-olgooco/64e3a7b2fbc6582d9274f21e-the-white-renovation-office-building-olgooco-photo\" src=\"https://images.adsttc.com/media/images/64e3/a7b2/fbc6/582d/9274/f21e/medium_jpg/the-white-renovation-office-building-olgooco_20.jpg?1692641237\" width=\"640\"/></picture><figcaption class=\"figcaption afd-desktop-e\" id=\"64e3a7b2fbc6582d9274f21e\">© Mohammad Hassan Ettefagh, Parham Taghioff</figcaption><i class=\"figcaption-cc-icon afd-desktop-e\"></i></a></figure><p><p>In the process, an old building was not only saved from demolition, but it became a benefit for the city and its new users; we hope that this project will cause a review of the growing trend of building destruction while reducing polluting construction waste less carbon is created to produce more materials. Apart from the concrete structure and the restoration of its surfaces, most renovation interventions are white, and two expressions of time flow in the space between <strong>what was</strong> and <strong>what is</strong>, which can be traced outside and inside of the primary and secondary spaces. The role of MEP is active and new three-dimensional lines are set on the old lines of the skeleton, create the geometry of the ceilings, and are part of the interior furniture.</p></p><figure aria-labelledby=\"64e3a7ab8177ff72a9c844ee\" class=\"js-image-size media-picture\" style=\"width: 640px\"><div class=\"save-image\"><a class=\"myarchdaily-multiple-fav\" data-image=\"https://images.adsttc.com/media/images/64e3/a7ab/8177/ff72/a9c8/44ee/newsletter/the-white-renovation-office-building-olgooco_5.jpg?1692641214\" data-message=\"Save this picture!\" data-success-message=\"Image saved\" data-title=\"Gallery of - The White Renovation Office Building / Olgooco - 18\" href=\"https://www.archdaily.com/1005735/the-white-renovation-office-building-olgooco/64e3a7ab8177ff72a9c844ee-the-white-renovation-office-building-olgooco-photo\" title=\"Save image\"><div class=\"save-image-icon clearfix\"><i class=\"afd-icon afd-icon-text__icon afd-icon--icon-folder-blue\"></i></div><div class=\"save-image-text\"><span class=\"save-image-span\">Save this picture!</span></div></a></div><a class=\"js-image-size__link lazy-anchor\" href=\"/1005735/the-white-renovation-office-building-olgooco/64e3a7ab8177ff72a9c844ee-the-white-renovation-office-building-olgooco-photo\"><picture><source media=\"(max-width: 767px)\" srcset=\"https://images.adsttc.com/media/images/64e3/a7ab/8177/ff72/a9c8/44ee/medium_jpg/the-white-renovation-office-building-olgooco_5.jpg?1692641214\"/><img alt=\"The White Renovation Office Building / Olgooco - Exterior Photography, Windows, Cityscape, Facade\" data-nr-picture-id=\"64e3a7ab8177ff72a9c844ee\" height=\"427\" itemprop=\"image\" loading=\"lazy\" longdesc=\"https://www.archdaily.com/1005735/the-white-renovation-office-building-olgooco/64e3a7ab8177ff72a9c844ee-the-white-renovation-office-building-olgooco-photo\" src=\"https://images.adsttc.com/media/images/64e3/a7ab/8177/ff72/a9c8/44ee/newsletter/the-white-renovation-office-building-olgooco_5.jpg?1692641214\" width=\"640\"/></picture><figcaption class=\"figcaption afd-desktop-e\" id=\"64e3a7ab8177ff72a9c844ee\">© Mohammad Hassan Ettefagh, Parham Taghioff</figcaption><i class=\"figcaption-cc-icon afd-desktop-e\"></i></a></figure></p>, <p><p><em>Text description provided by the architects. </em>Between the urban facades of a busy street in the heart of Tehran's office zone, a 35-year-old building begins its new life behind a white veil wrapped around it. The new users of the building, which are the administrative offices of a headquarters, are placed in the space between an old concrete structure and contemporary white objects and look at the white mask through a green balcony. Because the new owners failed to buy the existing bank, building Weight Loss was put on the agenda as the only possible solution to help the existing structure, and finally this whole process turned into a building design scenario; and the production of a large amount of construction waste was prevented.</p></p>, <p><em>Text description provided by the architects. </em>Between the urban facades of a busy street in the heart of Tehran's office zone, a 35-year-old building begins its new life behind a white veil wrapped around it. The new users of the building, which are the administrative offices of a headquarters, are placed in the space between an old concrete structure and contemporary white objects and look at the white mask through a green balcony. Because the new owners failed to buy the existing bank, building Weight Loss was put on the agenda as the only possible solution to help the existing structure, and finally this whole process turned into a building design scenario; and the production of a large amount of construction waste was prevented.</p>, <p><p>Considering the view from the inside, it is pointless to provide an open view because the conditions outside are disappointing and every moment the building becomes more enclosed by the surrounding density, therefore, a second mobile perforated aluminum shell was used, which is part of the interior and It eliminates the need for curtains and while reducing the thermal load, it is possible to clean the windows from the corridor behind it. The second shell and the corridor behind it are the boundary between the building and the city and are constantly changing. During the day it is solid and impenetrable and at night it is a semi-transparent source of light and reveals the interior, and in combination with bamboo plants creates a new micro yard for the offices.</p></p>, <p>Considering the view from the inside, it is pointless to provide an open view because the conditions outside are disappointing and every moment the building becomes more enclosed by the surrounding density, therefore, a second mobile perforated aluminum shell was used, which is part of the interior and It eliminates the need for curtains and while reducing the thermal load, it is possible to clean the windows from the corridor behind it. The second shell and the corridor behind it are the boundary between the building and the city and are constantly changing. During the day it is solid and impenetrable and at night it is a semi-transparent source of light and reveals the interior, and in combination with bamboo plants creates a new micro yard for the offices.</p>, <p><p>The closedness of the external facade is an urban gap, which is in complete contrast with the city's uncoordinated facades and expresses silence in the bustle of the urban orchestra. According to a 2018 report by the Environmental Protection Agency, total construction waste is twice as much as municipal waste from households and businesses.</p></p>, <p>The closedness of the external facade is an urban gap, which is in complete contrast with the city's uncoordinated facades and expresses silence in the bustle of the urban orchestra. According to a 2018 report by the Environmental Protection Agency, total construction waste is twice as much as municipal waste from households and businesses.</p>, <p><p>In the process, an old building was not only saved from demolition, but it became a benefit for the city and its new users; we hope that this project will cause a review of the growing trend of building destruction while reducing polluting construction waste less carbon is created to produce more materials. Apart from the concrete structure and the restoration of its surfaces, most renovation interventions are white, and two expressions of time flow in the space between <strong>what was</strong> and <strong>what is</strong>, which can be traced outside and inside of the primary and secondary spaces. The role of MEP is active and new three-dimensional lines are set on the old lines of the skeleton, create the geometry of the ceilings, and are part of the interior furniture.</p></p>, <p>In the process, an old building was not only saved from demolition, but it became a benefit for the city and its new users; we hope that this project will cause a review of the growing trend of building destruction while reducing polluting construction waste less carbon is created to produce more materials. Apart from the concrete structure and the restoration of its surfaces, most renovation interventions are white, and two expressions of time flow in the space between <strong>what was</strong> and <strong>what is</strong>, which can be traced outside and inside of the primary and secondary spaces. The role of MEP is active and new three-dimensional lines are set on the old lines of the skeleton, create the geometry of the ceilings, and are part of the interior furniture.</p>, <p>You'll now receive updates based on what you follow! Personalize your stream and start following your favorite authors, offices and users.</p>]\n"
     ]
    }
   ],
   "source": [
    "# 项目介绍文本\n",
    "paras = project_soup.find_all(\"p\",{'class_': ''})\n",
    "print(paras)"
   ]
  },
  {
   "cell_type": "code",
   "execution_count": null,
   "id": "a9056543",
   "metadata": {},
   "outputs": [],
   "source": []
  }
 ],
 "metadata": {
  "kernelspec": {
   "display_name": "Python 3",
   "language": "python",
   "name": "python3"
  },
  "language_info": {
   "codemirror_mode": {
    "name": "ipython",
    "version": 3
   },
   "file_extension": ".py",
   "mimetype": "text/x-python",
   "name": "python",
   "nbconvert_exporter": "python",
   "pygments_lexer": "ipython3",
   "version": "3.8.8"
  }
 },
 "nbformat": 4,
 "nbformat_minor": 5
}
